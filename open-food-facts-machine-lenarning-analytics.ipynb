{
 "cells": [
  {
   "cell_type": "code",
   "execution_count": 1,
   "id": "badb4b9c",
   "metadata": {
    "_cell_guid": "b1076dfc-b9ad-4769-8c92-a6c4dae69d19",
    "_uuid": "8f2839f25d086af736a60e9eeb907d3b93b6e0e5",
    "execution": {
     "iopub.execute_input": "2025-02-05T14:28:29.186391Z",
     "iopub.status.busy": "2025-02-05T14:28:29.186016Z",
     "iopub.status.idle": "2025-02-05T14:28:30.123558Z",
     "shell.execute_reply": "2025-02-05T14:28:30.122350Z"
    },
    "papermill": {
     "duration": 0.948258,
     "end_time": "2025-02-05T14:28:30.125353",
     "exception": false,
     "start_time": "2025-02-05T14:28:29.177095",
     "status": "completed"
    },
    "tags": []
   },
   "outputs": [
    {
     "name": "stdout",
     "output_type": "stream",
     "text": [
      "/kaggle/input/open-food-facts/en.openfoodfacts.org.products_out.csv\n",
      "/kaggle/input/open-food-facts/processed_openfoodfacts_dataset.csv\n",
      "/kaggle/input/open-food-facts/en.openfoodfacts.org.products.csv\n"
     ]
    }
   ],
   "source": [
    "# This Python 3 environment comes with many helpful analytics libraries installed\n",
    "# It is defined by the kaggle/python Docker image: https://github.com/kaggle/docker-python\n",
    "# For example, here's several helpful packages to load\n",
    "\n",
    "import numpy as np # linear algebra\n",
    "import pandas as pd # data processing, CSV file I/O (e.g. pd.read_csv)\n",
    "\n",
    "# Input data files are available in the read-only \"../input/\" directory\n",
    "# For example, running this (by clicking run or pressing Shift+Enter) will list all files under the input directory\n",
    "\n",
    "import os\n",
    "for dirname, _, filenames in os.walk('/kaggle/input'):\n",
    "    for filename in filenames:\n",
    "        print(os.path.join(dirname, filename))\n",
    "\n",
    "# You can write up to 20GB to the current directory (/kaggle/working/) that gets preserved as output when you create a version using \"Save & Run All\" \n",
    "# You can also write temporary files to /kaggle/temp/, but they won't be saved outside of the current session"
   ]
  },
  {
   "cell_type": "code",
   "execution_count": 2,
   "id": "7f2f9ded",
   "metadata": {
    "execution": {
     "iopub.execute_input": "2025-02-05T14:28:30.138725Z",
     "iopub.status.busy": "2025-02-05T14:28:30.138248Z",
     "iopub.status.idle": "2025-02-05T14:28:37.513542Z",
     "shell.execute_reply": "2025-02-05T14:28:37.512475Z"
    },
    "papermill": {
     "duration": 7.384037,
     "end_time": "2025-02-05T14:28:37.515561",
     "exception": false,
     "start_time": "2025-02-05T14:28:30.131524",
     "status": "completed"
    },
    "tags": []
   },
   "outputs": [],
   "source": [
    "from pyspark.sql import SparkSession\n",
    "\n",
    "# Initialize Spark Session\n",
    "spark = SparkSession.builder.appName(\"OpenFoodFacts\").getOrCreate()"
   ]
  },
  {
   "cell_type": "code",
   "execution_count": 3,
   "id": "0f787500",
   "metadata": {
    "execution": {
     "iopub.execute_input": "2025-02-05T14:28:37.528929Z",
     "iopub.status.busy": "2025-02-05T14:28:37.528222Z",
     "iopub.status.idle": "2025-02-05T14:28:37.536024Z",
     "shell.execute_reply": "2025-02-05T14:28:37.534956Z"
    },
    "papermill": {
     "duration": 0.016128,
     "end_time": "2025-02-05T14:28:37.537630",
     "exception": false,
     "start_time": "2025-02-05T14:28:37.521502",
     "status": "completed"
    },
    "tags": []
   },
   "outputs": [
    {
     "data": {
      "text/plain": [
       "'/kaggle/working'"
      ]
     },
     "execution_count": 3,
     "metadata": {},
     "output_type": "execute_result"
    }
   ],
   "source": [
    "working_dir=os.getcwd()\n",
    "working_dir"
   ]
  },
  {
   "cell_type": "code",
   "execution_count": 4,
   "id": "33e78a3d",
   "metadata": {
    "execution": {
     "iopub.execute_input": "2025-02-05T14:28:37.550589Z",
     "iopub.status.busy": "2025-02-05T14:28:37.550247Z",
     "iopub.status.idle": "2025-02-05T14:30:30.283832Z",
     "shell.execute_reply": "2025-02-05T14:30:30.281907Z"
    },
    "papermill": {
     "duration": 112.752516,
     "end_time": "2025-02-05T14:30:30.296060",
     "exception": false,
     "start_time": "2025-02-05T14:28:37.543544",
     "status": "completed"
    },
    "tags": []
   },
   "outputs": [
    {
     "name": "stdout",
     "output_type": "stream",
     "text": [
      "Columns in /kaggle/input/open-food-facts/en.openfoodfacts.org.products_out.csv:\n",
      "['code', 'url', 'creator', 'created_t', 'created_datetime', 'last_modified_t', 'last_modified_datetime', 'last_modified_by', 'product_name', 'abbreviated_product_name', 'generic_name', 'quantity', 'packaging', 'packaging_tags', 'packaging_en', 'packaging_text', 'brands', 'brands_tags', 'categories', 'categories_tags', 'categories_en', 'origins', 'origins_tags', 'origins_en', 'manufacturing_places', 'manufacturing_places_tags', 'labels', 'labels_tags', 'labels_en', 'emb_codes', 'emb_codes_tags', 'first_packaging_code_geo', 'cities', 'cities_tags', 'purchase_places', 'stores', 'countries', 'countries_tags', 'countries_en', 'ingredients_text', 'ingredients_tags', 'ingredients_analysis_tags', 'allergens', 'allergens_en', 'traces', 'traces_tags', 'traces_en', 'serving_size', 'serving_quantity', 'no_nutrition_data', 'additives_n', 'additives', 'additives_tags', 'additives_en', 'nutriscore_score', 'nutriscore_grade', 'nova_group', 'pnns_groups_1', 'pnns_groups_2', 'food_groups', 'food_groups_tags', 'food_groups_en', 'states', 'states_tags', 'states_en', 'brand_owner', 'ecoscore_score', 'ecoscore_grade', 'nutrient_levels_tags', 'product_quantity', 'owner', 'data_quality_errors_tags', 'unique_scans_n', 'popularity_tags', 'completeness', 'last_image_t', 'last_image_datetime', 'main_category', 'main_category_en', 'image_url', 'image_small_url', 'image_ingredients_url', 'image_ingredients_small_url', 'image_nutrition_url', 'image_nutrition_small_url', 'energy-kj_100g', 'energy-kcal_100g', 'energy_100g', 'energy-from-fat_100g', 'fat_100g', 'saturated-fat_100g', 'butyric-acid_100g', 'caproic-acid_100g', 'caprylic-acid_100g', 'capric-acid_100g', 'lauric-acid_100g', 'myristic-acid_100g', 'palmitic-acid_100g', 'stearic-acid_100g', 'arachidic-acid_100g', 'behenic-acid_100g', 'lignoceric-acid_100g', 'cerotic-acid_100g', 'montanic-acid_100g', 'melissic-acid_100g', 'unsaturated-fat_100g', 'monounsaturated-fat_100g', 'polyunsaturated-fat_100g', 'omega-3-fat_100g', 'alpha-linolenic-acid_100g', 'eicosapentaenoic-acid_100g', 'docosahexaenoic-acid_100g', 'omega-6-fat_100g', 'linoleic-acid_100g', 'arachidonic-acid_100g', 'gamma-linolenic-acid_100g', 'dihomo-gamma-linolenic-acid_100g', 'omega-9-fat_100g', 'oleic-acid_100g', 'elaidic-acid_100g', 'gondoic-acid_100g', 'mead-acid_100g', 'erucic-acid_100g', 'nervonic-acid_100g', 'trans-fat_100g', 'cholesterol_100g', 'carbohydrates_100g', 'sugars_100g', 'added-sugars_100g', 'sucrose_100g', 'glucose_100g', 'fructose_100g', 'lactose_100g', 'maltose_100g', 'maltodextrins_100g', 'starch_100g', 'polyols_100g', 'erythritol_100g', 'fiber_100g', 'soluble-fiber_100g', 'insoluble-fiber_100g', 'proteins_100g', 'casein_100g', 'serum-proteins_100g', 'nucleotides_100g', 'salt_100g', 'added-salt_100g', 'sodium_100g', 'alcohol_100g', 'vitamin-a_100g', 'beta-carotene_100g', 'vitamin-d_100g', 'vitamin-e_100g', 'vitamin-k_100g', 'vitamin-c_100g', 'vitamin-b1_100g', 'vitamin-b2_100g', 'vitamin-pp_100g', 'vitamin-b6_100g', 'vitamin-b9_100g', 'folates_100g', 'vitamin-b12_100g', 'biotin_100g', 'pantothenic-acid_100g', 'silica_100g', 'bicarbonate_100g', 'potassium_100g', 'chloride_100g', 'calcium_100g', 'phosphorus_100g', 'iron_100g', 'magnesium_100g', 'zinc_100g', 'copper_100g', 'manganese_100g', 'fluoride_100g', 'selenium_100g', 'chromium_100g', 'molybdenum_100g', 'iodine_100g', 'caffeine_100g', 'taurine_100g', 'ph_100g', 'fruits-vegetables-nuts_100g', 'fruits-vegetables-nuts-dried_100g', 'fruits-vegetables-nuts-estimate_100g', 'fruits-vegetables-nuts-estimate-from-ingredients_100g', 'collagen-meat-protein-ratio_100g', 'cocoa_100g', 'chlorophyl_100g', 'carbon-footprint_100g', 'carbon-footprint-from-meat-or-fish_100g', 'nutrition-score-fr_100g', 'nutrition-score-uk_100g', 'glycemic-index_100g', 'water-hardness_100g', 'choline_100g', 'phylloquinone_100g', 'beta-glucan_100g', 'inositol_100g', 'carnitine_100g']\n",
      "--------------------------------------------------------------------------------\n",
      "Columns in /kaggle/input/open-food-facts/en.openfoodfacts.org.products.csv:\n",
      "['code\\turl\\tcreator\\tcreated_t\\tcreated_datetime\\tlast_modified_t\\tlast_modified_datetime\\tlast_modified_by\\tproduct_name\\tabbreviated_product_name\\tgeneric_name\\tquantity\\tpackaging\\tpackaging_tags\\tpackaging_en\\tpackaging_text\\tbrands\\tbrands_tags\\tcategories\\tcategories_tags\\tcategories_en\\torigins\\torigins_tags\\torigins_en\\tmanufacturing_places\\tmanufacturing_places_tags\\tlabels\\tlabels_tags\\tlabels_en\\temb_codes\\temb_codes_tags\\tfirst_packaging_code_geo\\tcities\\tcities_tags\\tpurchase_places\\tstores\\tcountries\\tcountries_tags\\tcountries_en\\tingredients_text\\tingredients_tags\\tingredients_analysis_tags\\tallergens\\tallergens_en\\ttraces\\ttraces_tags\\ttraces_en\\tserving_size\\tserving_quantity\\tno_nutrition_data\\tadditives_n\\tadditives\\tadditives_tags\\tadditives_en\\tnutriscore_score\\tnutriscore_grade\\tnova_group\\tpnns_groups_1\\tpnns_groups_2\\tfood_groups\\tfood_groups_tags\\tfood_groups_en\\tstates\\tstates_tags\\tstates_en\\tbrand_owner\\tecoscore_score\\tecoscore_grade\\tnutrient_levels_tags\\tproduct_quantity\\towner\\tdata_quality_errors_tags\\tunique_scans_n\\tpopularity_tags\\tcompleteness\\tlast_image_t\\tlast_image_datetime\\tmain_category\\tmain_category_en\\timage_url\\timage_small_url\\timage_ingredients_url\\timage_ingredients_small_url\\timage_nutrition_url\\timage_nutrition_small_url\\tenergy-kj_100g\\tenergy-kcal_100g\\tenergy_100g\\tenergy-from-fat_100g\\tfat_100g\\tsaturated-fat_100g\\tbutyric-acid_100g\\tcaproic-acid_100g\\tcaprylic-acid_100g\\tcapric-acid_100g\\tlauric-acid_100g\\tmyristic-acid_100g\\tpalmitic-acid_100g\\tstearic-acid_100g\\tarachidic-acid_100g\\tbehenic-acid_100g\\tlignoceric-acid_100g\\tcerotic-acid_100g\\tmontanic-acid_100g\\tmelissic-acid_100g\\tunsaturated-fat_100g\\tmonounsaturated-fat_100g\\tpolyunsaturated-fat_100g\\tomega-3-fat_100g\\talpha-linolenic-acid_100g\\teicosapentaenoic-acid_100g\\tdocosahexaenoic-acid_100g\\tomega-6-fat_100g\\tlinoleic-acid_100g\\tarachidonic-acid_100g\\tgamma-linolenic-acid_100g\\tdihomo-gamma-linolenic-acid_100g\\tomega-9-fat_100g\\toleic-acid_100g\\telaidic-acid_100g\\tgondoic-acid_100g\\tmead-acid_100g\\terucic-acid_100g\\tnervonic-acid_100g\\ttrans-fat_100g\\tcholesterol_100g\\tcarbohydrates_100g\\tsugars_100g\\tadded-sugars_100g\\tsucrose_100g\\tglucose_100g\\tfructose_100g\\tlactose_100g\\tmaltose_100g\\tmaltodextrins_100g\\tstarch_100g\\tpolyols_100g\\terythritol_100g\\tfiber_100g\\tsoluble-fiber_100g\\tinsoluble-fiber_100g\\tproteins_100g\\tcasein_100g\\tserum-proteins_100g\\tnucleotides_100g\\tsalt_100g\\tadded-salt_100g\\tsodium_100g\\talcohol_100g\\tvitamin-a_100g\\tbeta-carotene_100g\\tvitamin-d_100g\\tvitamin-e_100g\\tvitamin-k_100g\\tvitamin-c_100g\\tvitamin-b1_100g\\tvitamin-b2_100g\\tvitamin-pp_100g\\tvitamin-b6_100g\\tvitamin-b9_100g\\tfolates_100g\\tvitamin-b12_100g\\tbiotin_100g\\tpantothenic-acid_100g\\tsilica_100g\\tbicarbonate_100g\\tpotassium_100g\\tchloride_100g\\tcalcium_100g\\tphosphorus_100g\\tiron_100g\\tmagnesium_100g\\tzinc_100g\\tcopper_100g\\tmanganese_100g\\tfluoride_100g\\tselenium_100g\\tchromium_100g\\tmolybdenum_100g\\tiodine_100g\\tcaffeine_100g\\ttaurine_100g\\tph_100g\\tfruits-vegetables-nuts_100g\\tfruits-vegetables-nuts-dried_100g\\tfruits-vegetables-nuts-estimate_100g\\tfruits-vegetables-nuts-estimate-from-ingredients_100g\\tcollagen-meat-protein-ratio_100g\\tcocoa_100g\\tchlorophyl_100g\\tcarbon-footprint_100g\\tcarbon-footprint-from-meat-or-fish_100g\\tnutrition-score-fr_100g\\tnutrition-score-uk_100g\\tglycemic-index_100g\\twater-hardness_100g\\tcholine_100g\\tphylloquinone_100g\\tbeta-glucan_100g\\tinositol_100g\\tcarnitine_100g']\n",
      "--------------------------------------------------------------------------------\n"
     ]
    }
   ],
   "source": [
    "# Define file paths\n",
    "file_paths = [\"/kaggle/input/open-food-facts/en.openfoodfacts.org.products_out.csv\",\n",
    "              \"/kaggle/input/open-food-facts/en.openfoodfacts.org.products.csv\"]\n",
    "\n",
    "# Load CSVs and print column names\n",
    "for file in file_paths:\n",
    "    print(f\"Columns in {file}:\")\n",
    "    df = spark.read.csv(file, header=True, inferSchema=True)\n",
    "    print(df.columns)\n",
    "    print(\"-\" * 80)"
   ]
  },
  {
   "cell_type": "code",
   "execution_count": 5,
   "id": "37639e01",
   "metadata": {
    "execution": {
     "iopub.execute_input": "2025-02-05T14:30:30.311012Z",
     "iopub.status.busy": "2025-02-05T14:30:30.310554Z",
     "iopub.status.idle": "2025-02-05T14:30:30.639349Z",
     "shell.execute_reply": "2025-02-05T14:30:30.638108Z"
    },
    "papermill": {
     "duration": 0.339854,
     "end_time": "2025-02-05T14:30:30.642439",
     "exception": false,
     "start_time": "2025-02-05T14:30:30.302585",
     "status": "completed"
    },
    "tags": []
   },
   "outputs": [],
   "source": [
    "# Load the tab-separated file\n",
    "tsv_file =file_paths[1]\n",
    "csv_file = f\"{working_dir}/en.openfoodfacts.org.products.csv\"\n",
    "df = spark.read.option(\"delimiter\", \"\\t\").option(\"header\", \"true\").csv(tsv_file)"
   ]
  },
  {
   "cell_type": "code",
   "execution_count": 6,
   "id": "8b968078",
   "metadata": {
    "execution": {
     "iopub.execute_input": "2025-02-05T14:30:30.660127Z",
     "iopub.status.busy": "2025-02-05T14:30:30.659728Z",
     "iopub.status.idle": "2025-02-05T14:33:59.789987Z",
     "shell.execute_reply": "2025-02-05T14:33:59.788977Z"
    },
    "papermill": {
     "duration": 209.150471,
     "end_time": "2025-02-05T14:33:59.802523",
     "exception": false,
     "start_time": "2025-02-05T14:30:30.652052",
     "status": "completed"
    },
    "tags": []
   },
   "outputs": [
    {
     "name": "stdout",
     "output_type": "stream",
     "text": [
      "Conversion completed!\n"
     ]
    }
   ],
   "source": [
    "# Save as CSV\n",
    "df.coalesce(1).write.option(\"header\", \"true\").csv(csv_file, mode=\"overwrite\")\n",
    "print(\"Conversion completed!\")"
   ]
  },
  {
   "cell_type": "code",
   "execution_count": 7,
   "id": "54ec71be",
   "metadata": {
    "execution": {
     "iopub.execute_input": "2025-02-05T14:33:59.822427Z",
     "iopub.status.busy": "2025-02-05T14:33:59.821973Z",
     "iopub.status.idle": "2025-02-05T14:33:59.830431Z",
     "shell.execute_reply": "2025-02-05T14:33:59.829477Z"
    },
    "papermill": {
     "duration": 0.018263,
     "end_time": "2025-02-05T14:33:59.831876",
     "exception": false,
     "start_time": "2025-02-05T14:33:59.813613",
     "status": "completed"
    },
    "tags": []
   },
   "outputs": [
    {
     "data": {
      "text/plain": [
       "'/kaggle/working/en.openfoodfacts.org.products.csv/part-00000-405f9d55-c50f-4bcf-83fb-79376c59b9e9-c000.csv'"
      ]
     },
     "execution_count": 7,
     "metadata": {},
     "output_type": "execute_result"
    }
   ],
   "source": [
    "import glob\n",
    "\n",
    "csv_file_path=glob.glob(f\"{csv_file}/*.csv\")[0]\n",
    "csv_file_path"
   ]
  },
  {
   "cell_type": "code",
   "execution_count": 8,
   "id": "bbd3fd17",
   "metadata": {
    "execution": {
     "iopub.execute_input": "2025-02-05T14:33:59.852379Z",
     "iopub.status.busy": "2025-02-05T14:33:59.851829Z",
     "iopub.status.idle": "2025-02-05T14:34:40.054982Z",
     "shell.execute_reply": "2025-02-05T14:34:40.053873Z"
    },
    "papermill": {
     "duration": 40.218478,
     "end_time": "2025-02-05T14:34:40.057104",
     "exception": false,
     "start_time": "2025-02-05T14:33:59.838626",
     "status": "completed"
    },
    "tags": []
   },
   "outputs": [],
   "source": [
    "df = spark.read.csv(csv_file_path, header=True, inferSchema=True)"
   ]
  },
  {
   "cell_type": "code",
   "execution_count": 9,
   "id": "f1f465e7",
   "metadata": {
    "execution": {
     "iopub.execute_input": "2025-02-05T14:34:40.071983Z",
     "iopub.status.busy": "2025-02-05T14:34:40.071580Z",
     "iopub.status.idle": "2025-02-05T14:34:40.078453Z",
     "shell.execute_reply": "2025-02-05T14:34:40.077385Z"
    },
    "papermill": {
     "duration": 0.015775,
     "end_time": "2025-02-05T14:34:40.080011",
     "exception": false,
     "start_time": "2025-02-05T14:34:40.064236",
     "status": "completed"
    },
    "tags": []
   },
   "outputs": [
    {
     "data": {
      "text/plain": [
       "['nutriscore_grade',\n",
       " 'energy-kj_100g',\n",
       " 'fat_100g',\n",
       " 'saturated-fat_100g',\n",
       " 'carbohydrates_100g',\n",
       " 'sugars_100g',\n",
       " 'proteins_100g',\n",
       " 'salt_100g',\n",
       " 'fiber_100g',\n",
       " 'sodium_100g',\n",
       " 'vitamin-a_100g',\n",
       " 'vitamin-c_100g',\n",
       " 'calcium_100g',\n",
       " 'iron_100g',\n",
       " 'nutrition-score-fr_100g']"
      ]
     },
     "execution_count": 9,
     "metadata": {},
     "output_type": "execute_result"
    }
   ],
   "source": [
    "# Select relevant columns for predicting Nutri-Score grade\n",
    "feature_columns  = [\n",
    "    'nutriscore_grade',  # Target variable\n",
    "    'energy-kj_100g', 'fat_100g', 'saturated-fat_100g', 'carbohydrates_100g', 'sugars_100g',\n",
    "    'proteins_100g', 'salt_100g', 'fiber_100g', 'sodium_100g', 'vitamin-a_100g', 'vitamin-c_100g',\n",
    "    'calcium_100g', 'iron_100g', 'nutrition-score-fr_100g'\n",
    "]\n",
    "feature_columns"
   ]
  },
  {
   "cell_type": "code",
   "execution_count": 10,
   "id": "d87948ef",
   "metadata": {
    "execution": {
     "iopub.execute_input": "2025-02-05T14:34:40.093904Z",
     "iopub.status.busy": "2025-02-05T14:34:40.093480Z",
     "iopub.status.idle": "2025-02-05T14:34:40.158624Z",
     "shell.execute_reply": "2025-02-05T14:34:40.157264Z"
    },
    "papermill": {
     "duration": 0.074645,
     "end_time": "2025-02-05T14:34:40.161066",
     "exception": false,
     "start_time": "2025-02-05T14:34:40.086421",
     "status": "completed"
    },
    "tags": []
   },
   "outputs": [],
   "source": [
    "df = df.select(feature_columns)"
   ]
  },
  {
   "cell_type": "code",
   "execution_count": 11,
   "id": "f462879f",
   "metadata": {
    "execution": {
     "iopub.execute_input": "2025-02-05T14:34:40.180361Z",
     "iopub.status.busy": "2025-02-05T14:34:40.179883Z",
     "iopub.status.idle": "2025-02-05T14:34:40.201998Z",
     "shell.execute_reply": "2025-02-05T14:34:40.200944Z"
    },
    "papermill": {
     "duration": 0.031682,
     "end_time": "2025-02-05T14:34:40.203861",
     "exception": false,
     "start_time": "2025-02-05T14:34:40.172179",
     "status": "completed"
    },
    "tags": []
   },
   "outputs": [],
   "source": [
    "# Drop rows with missing values in the target variable\n",
    "df = df.na.drop(subset=[\"nutriscore_grade\"])"
   ]
  },
  {
   "cell_type": "code",
   "execution_count": 12,
   "id": "13db2d43",
   "metadata": {
    "execution": {
     "iopub.execute_input": "2025-02-05T14:34:40.218419Z",
     "iopub.status.busy": "2025-02-05T14:34:40.217942Z",
     "iopub.status.idle": "2025-02-05T14:34:40.373659Z",
     "shell.execute_reply": "2025-02-05T14:34:40.372505Z"
    },
    "papermill": {
     "duration": 0.165252,
     "end_time": "2025-02-05T14:34:40.375711",
     "exception": false,
     "start_time": "2025-02-05T14:34:40.210459",
     "status": "completed"
    },
    "tags": []
   },
   "outputs": [],
   "source": [
    "from pyspark.sql.functions import col, lit,col, isnan, sum as sum_\n",
    "from pyspark.sql.types import DoubleType\n",
    "\n",
    "# Select all feature columns except the target column\n",
    "feature_columns = [c for c in df.columns if c != \"nutriscore_grade\"]\n",
    "\n",
    "# Select all columns, keeping the target column as is and converting others to DoubleType\n",
    "df = df.select(\n",
    "    col(\"nutriscore_grade\"),  # Keep target column as is\n",
    "    *[col(c).cast(DoubleType()).alias(c) for c in feature_columns]  # Convert features to DoubleType\n",
    ")"
   ]
  },
  {
   "cell_type": "code",
   "execution_count": 13,
   "id": "6b7acb04",
   "metadata": {
    "execution": {
     "iopub.execute_input": "2025-02-05T14:34:40.390268Z",
     "iopub.status.busy": "2025-02-05T14:34:40.389899Z",
     "iopub.status.idle": "2025-02-05T14:34:40.398764Z",
     "shell.execute_reply": "2025-02-05T14:34:40.397409Z"
    },
    "papermill": {
     "duration": 0.018192,
     "end_time": "2025-02-05T14:34:40.400591",
     "exception": false,
     "start_time": "2025-02-05T14:34:40.382399",
     "status": "completed"
    },
    "tags": []
   },
   "outputs": [
    {
     "name": "stdout",
     "output_type": "stream",
     "text": [
      "root\n",
      " |-- nutriscore_grade: string (nullable = true)\n",
      " |-- energy-kj_100g: double (nullable = true)\n",
      " |-- fat_100g: double (nullable = true)\n",
      " |-- saturated-fat_100g: double (nullable = true)\n",
      " |-- carbohydrates_100g: double (nullable = true)\n",
      " |-- sugars_100g: double (nullable = true)\n",
      " |-- proteins_100g: double (nullable = true)\n",
      " |-- salt_100g: double (nullable = true)\n",
      " |-- fiber_100g: double (nullable = true)\n",
      " |-- sodium_100g: double (nullable = true)\n",
      " |-- vitamin-a_100g: double (nullable = true)\n",
      " |-- vitamin-c_100g: double (nullable = true)\n",
      " |-- calcium_100g: double (nullable = true)\n",
      " |-- iron_100g: double (nullable = true)\n",
      " |-- nutrition-score-fr_100g: double (nullable = true)\n",
      "\n"
     ]
    }
   ],
   "source": [
    "df.printSchema()"
   ]
  },
  {
   "cell_type": "code",
   "execution_count": 14,
   "id": "380a457b",
   "metadata": {
    "execution": {
     "iopub.execute_input": "2025-02-05T14:34:40.415316Z",
     "iopub.status.busy": "2025-02-05T14:34:40.414956Z",
     "iopub.status.idle": "2025-02-05T14:35:13.734983Z",
     "shell.execute_reply": "2025-02-05T14:35:13.734060Z"
    },
    "papermill": {
     "duration": 33.329672,
     "end_time": "2025-02-05T14:35:13.737080",
     "exception": false,
     "start_time": "2025-02-05T14:34:40.407408",
     "status": "completed"
    },
    "tags": []
   },
   "outputs": [],
   "source": [
    "from pyspark.ml.feature import Imputer\n",
    "\n",
    "# Define the Imputer to fill missing values with the mean\n",
    "feature_columns = [col for col in df.columns if col != \"nutriscore_grade\"]\n",
    "imputer = Imputer(inputCols=feature_columns, outputCols=feature_columns, strategy=\"mean\")\n",
    "df = imputer.fit(df).transform(df)"
   ]
  },
  {
   "cell_type": "code",
   "execution_count": 15,
   "id": "96252ddf",
   "metadata": {
    "execution": {
     "iopub.execute_input": "2025-02-05T14:35:13.752401Z",
     "iopub.status.busy": "2025-02-05T14:35:13.751872Z",
     "iopub.status.idle": "2025-02-05T14:35:44.339751Z",
     "shell.execute_reply": "2025-02-05T14:35:44.338675Z"
    },
    "papermill": {
     "duration": 30.607957,
     "end_time": "2025-02-05T14:35:44.352036",
     "exception": false,
     "start_time": "2025-02-05T14:35:13.744079",
     "status": "completed"
    },
    "tags": []
   },
   "outputs": [
    {
     "name": "stdout",
     "output_type": "stream",
     "text": [
      "+--------------+--------+------------------+------------------+-----------+-------------+---------+----------+-----------+--------------+--------------+------------+---------+-----------------------+\n",
      "|energy-kj_100g|fat_100g|saturated-fat_100g|carbohydrates_100g|sugars_100g|proteins_100g|salt_100g|fiber_100g|sodium_100g|vitamin-a_100g|vitamin-c_100g|calcium_100g|iron_100g|nutrition-score-fr_100g|\n",
      "+--------------+--------+------------------+------------------+-----------+-------------+---------+----------+-----------+--------------+--------------+------------+---------+-----------------------+\n",
      "|0             |0       |0                 |0                 |0          |0            |0        |0         |0          |0             |0             |0           |0        |0                      |\n",
      "+--------------+--------+------------------+------------------+-----------+-------------+---------+----------+-----------+--------------+--------------+------------+---------+-----------------------+\n",
      "\n"
     ]
    }
   ],
   "source": [
    "null_counts = df.select(*[(col(c).isNull() | isnan(c)).cast(\"int\").alias(c) for c in feature_columns])\n",
    "null_counts_agg = null_counts.agg(*[sum_(col(c)).alias(c) for c in feature_columns])\n",
    "null_counts_agg.show(truncate=False)"
   ]
  },
  {
   "cell_type": "code",
   "execution_count": 16,
   "id": "f4a47620",
   "metadata": {
    "execution": {
     "iopub.execute_input": "2025-02-05T14:35:44.376474Z",
     "iopub.status.busy": "2025-02-05T14:35:44.376000Z",
     "iopub.status.idle": "2025-02-05T14:36:12.197809Z",
     "shell.execute_reply": "2025-02-05T14:36:12.196732Z"
    },
    "papermill": {
     "duration": 27.8371,
     "end_time": "2025-02-05T14:36:12.200555",
     "exception": false,
     "start_time": "2025-02-05T14:35:44.363455",
     "status": "completed"
    },
    "tags": []
   },
   "outputs": [
    {
     "name": "stdout",
     "output_type": "stream",
     "text": [
      "Null values in nutriscore_grade column: 0\n"
     ]
    }
   ],
   "source": [
    "# Count the number of null values in the \"nutriscore_grade\" column\n",
    "null_count = df.filter(df[\"nutriscore_grade\"].isNull()).count()\n",
    "print(f\"Null values in nutriscore_grade column: {null_count}\")"
   ]
  },
  {
   "cell_type": "code",
   "execution_count": 17,
   "id": "cc7afeea",
   "metadata": {
    "execution": {
     "iopub.execute_input": "2025-02-05T14:36:12.225706Z",
     "iopub.status.busy": "2025-02-05T14:36:12.225225Z",
     "iopub.status.idle": "2025-02-05T14:36:42.327982Z",
     "shell.execute_reply": "2025-02-05T14:36:42.326885Z"
    },
    "papermill": {
     "duration": 30.117622,
     "end_time": "2025-02-05T14:36:42.330099",
     "exception": false,
     "start_time": "2025-02-05T14:36:12.212477",
     "status": "completed"
    },
    "tags": []
   },
   "outputs": [],
   "source": [
    "from pyspark.ml.feature import StringIndexer\n",
    "\n",
    "# Encode the target variable (nutriscore_grade) to numerical labels\n",
    "indexer = StringIndexer(inputCol=\"nutriscore_grade\", outputCol=\"label\")\n",
    "df = indexer.fit(df).transform(df)"
   ]
  },
  {
   "cell_type": "code",
   "execution_count": 18,
   "id": "1767fa18",
   "metadata": {
    "execution": {
     "iopub.execute_input": "2025-02-05T14:36:42.345025Z",
     "iopub.status.busy": "2025-02-05T14:36:42.344612Z",
     "iopub.status.idle": "2025-02-05T14:36:42.362483Z",
     "shell.execute_reply": "2025-02-05T14:36:42.361364Z"
    },
    "papermill": {
     "duration": 0.027345,
     "end_time": "2025-02-05T14:36:42.364443",
     "exception": false,
     "start_time": "2025-02-05T14:36:42.337098",
     "status": "completed"
    },
    "tags": []
   },
   "outputs": [],
   "source": [
    "from pyspark.ml.feature import VectorAssembler\n",
    "\n",
    "# Assemble features into a single vector column\n",
    "assembler = VectorAssembler(inputCols=feature_columns, outputCol=\"features\")"
   ]
  },
  {
   "cell_type": "code",
   "execution_count": 19,
   "id": "4b6e968c",
   "metadata": {
    "execution": {
     "iopub.execute_input": "2025-02-05T14:36:42.379371Z",
     "iopub.status.busy": "2025-02-05T14:36:42.379005Z",
     "iopub.status.idle": "2025-02-05T14:36:42.412040Z",
     "shell.execute_reply": "2025-02-05T14:36:42.410945Z"
    },
    "papermill": {
     "duration": 0.042783,
     "end_time": "2025-02-05T14:36:42.414036",
     "exception": false,
     "start_time": "2025-02-05T14:36:42.371253",
     "status": "completed"
    },
    "tags": []
   },
   "outputs": [],
   "source": [
    "# Split the data into training and testing sets\n",
    "train_data, test_data = df.randomSplit([0.8, 0.2], seed=42)"
   ]
  },
  {
   "cell_type": "code",
   "execution_count": 20,
   "id": "66362bc3",
   "metadata": {
    "execution": {
     "iopub.execute_input": "2025-02-05T14:36:42.428885Z",
     "iopub.status.busy": "2025-02-05T14:36:42.428444Z",
     "iopub.status.idle": "2025-02-05T14:37:14.771859Z",
     "shell.execute_reply": "2025-02-05T14:37:14.770190Z"
    },
    "papermill": {
     "duration": 32.361407,
     "end_time": "2025-02-05T14:37:14.782333",
     "exception": false,
     "start_time": "2025-02-05T14:36:42.420926",
     "status": "completed"
    },
    "tags": []
   },
   "outputs": [
    {
     "data": {
      "text/plain": [
       "727144"
      ]
     },
     "execution_count": 20,
     "metadata": {},
     "output_type": "execute_result"
    }
   ],
   "source": [
    "train_data.count()"
   ]
  },
  {
   "cell_type": "code",
   "execution_count": 21,
   "id": "c4c247b9",
   "metadata": {
    "execution": {
     "iopub.execute_input": "2025-02-05T14:37:14.800050Z",
     "iopub.status.busy": "2025-02-05T14:37:14.799646Z",
     "iopub.status.idle": "2025-02-05T14:37:45.815152Z",
     "shell.execute_reply": "2025-02-05T14:37:45.814009Z"
    },
    "papermill": {
     "duration": 31.034657,
     "end_time": "2025-02-05T14:37:45.826379",
     "exception": false,
     "start_time": "2025-02-05T14:37:14.791722",
     "status": "completed"
    },
    "tags": []
   },
   "outputs": [
    {
     "data": {
      "text/plain": [
       "181665"
      ]
     },
     "execution_count": 21,
     "metadata": {},
     "output_type": "execute_result"
    }
   ],
   "source": [
    "test_data.count()"
   ]
  },
  {
   "cell_type": "code",
   "execution_count": 22,
   "id": "1fe114ce",
   "metadata": {
    "execution": {
     "iopub.execute_input": "2025-02-05T14:37:45.852793Z",
     "iopub.status.busy": "2025-02-05T14:37:45.852273Z",
     "iopub.status.idle": "2025-02-05T14:37:45.938869Z",
     "shell.execute_reply": "2025-02-05T14:37:45.937518Z"
    },
    "papermill": {
     "duration": 0.102656,
     "end_time": "2025-02-05T14:37:45.941376",
     "exception": false,
     "start_time": "2025-02-05T14:37:45.838720",
     "status": "completed"
    },
    "tags": []
   },
   "outputs": [],
   "source": [
    "from pyspark.ml.classification import RandomForestClassifier\n",
    "from pyspark.ml import Pipeline\n",
    "\n",
    "# Define the model (Random Forest Classifier)\n",
    "rf = RandomForestClassifier(labelCol=\"label\", featuresCol=\"features\", numTrees=10)\n",
    "# Create a pipeline\n",
    "pipeline = Pipeline(stages=[assembler, rf])"
   ]
  },
  {
   "cell_type": "code",
   "execution_count": 23,
   "id": "42f372f2",
   "metadata": {
    "execution": {
     "iopub.execute_input": "2025-02-05T14:37:45.964137Z",
     "iopub.status.busy": "2025-02-05T14:37:45.963636Z",
     "iopub.status.idle": "2025-02-05T14:39:38.268302Z",
     "shell.execute_reply": "2025-02-05T14:39:38.266881Z"
    },
    "papermill": {
     "duration": 112.3162,
     "end_time": "2025-02-05T14:39:38.271188",
     "exception": false,
     "start_time": "2025-02-05T14:37:45.954988",
     "status": "completed"
    },
    "tags": []
   },
   "outputs": [],
   "source": [
    "model = pipeline.fit(train_data)"
   ]
  },
  {
   "cell_type": "code",
   "execution_count": 24,
   "id": "69a31a43",
   "metadata": {
    "execution": {
     "iopub.execute_input": "2025-02-05T14:39:38.298010Z",
     "iopub.status.busy": "2025-02-05T14:39:38.297466Z",
     "iopub.status.idle": "2025-02-05T14:39:38.411563Z",
     "shell.execute_reply": "2025-02-05T14:39:38.410172Z"
    },
    "papermill": {
     "duration": 0.12993,
     "end_time": "2025-02-05T14:39:38.414116",
     "exception": false,
     "start_time": "2025-02-05T14:39:38.284186",
     "status": "completed"
    },
    "tags": []
   },
   "outputs": [],
   "source": [
    "# Make predictions\n",
    "predictions = model.transform(test_data)"
   ]
  },
  {
   "cell_type": "code",
   "execution_count": 25,
   "id": "7445afa9",
   "metadata": {
    "execution": {
     "iopub.execute_input": "2025-02-05T14:39:38.432998Z",
     "iopub.status.busy": "2025-02-05T14:39:38.432565Z",
     "iopub.status.idle": "2025-02-05T14:40:16.868481Z",
     "shell.execute_reply": "2025-02-05T14:40:16.864627Z"
    },
    "papermill": {
     "duration": 38.453796,
     "end_time": "2025-02-05T14:40:16.878326",
     "exception": false,
     "start_time": "2025-02-05T14:39:38.424530",
     "status": "completed"
    },
    "tags": []
   },
   "outputs": [
    {
     "name": "stdout",
     "output_type": "stream",
     "text": [
      "Accuracy: 0.95\n"
     ]
    }
   ],
   "source": [
    "from pyspark.ml.evaluation import MulticlassClassificationEvaluator\n",
    "\n",
    "# Evaluate the model\n",
    "evaluator = MulticlassClassificationEvaluator(labelCol=\"label\", predictionCol=\"prediction\", metricName=\"accuracy\")\n",
    "accuracy = evaluator.evaluate(predictions)\n",
    "print(f\"Accuracy: {accuracy:.2f}\")"
   ]
  },
  {
   "cell_type": "code",
   "execution_count": 26,
   "id": "9c557c9e",
   "metadata": {
    "execution": {
     "iopub.execute_input": "2025-02-05T14:40:16.894020Z",
     "iopub.status.busy": "2025-02-05T14:40:16.893233Z",
     "iopub.status.idle": "2025-02-05T14:40:52.672824Z",
     "shell.execute_reply": "2025-02-05T14:40:52.671681Z"
    },
    "papermill": {
     "duration": 35.796018,
     "end_time": "2025-02-05T14:40:52.681300",
     "exception": false,
     "start_time": "2025-02-05T14:40:16.885282",
     "status": "completed"
    },
    "tags": []
   },
   "outputs": [
    {
     "data": {
      "image/png": "[encoded data removed]",
      "text/plain": [
       "<Figure size 800x600 with 2 Axes>"
      ]
     },
     "metadata": {},
     "output_type": "display_data"
    }
   ],
   "source": [
    "from sklearn.metrics import confusion_matrix\n",
    "import matplotlib.pyplot as plt\n",
    "import seaborn as sns\n",
    "\n",
    "# Convert predictions to Pandas DataFrame for visualization\n",
    "predictions_pd = predictions.select(\"label\", \"prediction\").toPandas()\n",
    "\n",
    "# Visualization 1: Confusion Matrix\n",
    "conf_matrix = confusion_matrix(predictions_pd[\"label\"], predictions_pd[\"prediction\"])\n",
    "plt.figure(figsize=(8, 6))\n",
    "sns.heatmap(conf_matrix, annot=True, fmt=\"d\", cmap=\"Blues\", xticklabels=[\"A\", \"B\", \"C\", \"D\", \"E\"], yticklabels=[\"A\", \"B\", \"C\", \"D\", \"E\"])\n",
    "plt.xlabel(\"Predicted\")\n",
    "plt.ylabel(\"Actual\")\n",
    "plt.title(\"Confusion Matrix\")\n",
    "plt.show()"
   ]
  },
  {
   "cell_type": "code",
   "execution_count": 27,
   "id": "7e18b214",
   "metadata": {
    "execution": {
     "iopub.execute_input": "2025-02-05T14:40:52.699083Z",
     "iopub.status.busy": "2025-02-05T14:40:52.698472Z",
     "iopub.status.idle": "2025-02-05T14:40:53.029606Z",
     "shell.execute_reply": "2025-02-05T14:40:53.027951Z"
    },
    "papermill": {
     "duration": 0.341329,
     "end_time": "2025-02-05T14:40:53.031400",
     "exception": false,
     "start_time": "2025-02-05T14:40:52.690071",
     "status": "completed"
    },
    "tags": []
   },
   "outputs": [
    {
     "data": {
      "image/png": "[encoded data removed]",
      "text/plain": [
       "<Figure size 1000x600 with 1 Axes>"
      ]
     },
     "metadata": {},
     "output_type": "display_data"
    }
   ],
   "source": [
    "# Visualization 2: Feature Importance\n",
    "feature_importance = model.stages[-1].featureImportances.toArray()\n",
    "feature_names = feature_columns\n",
    "importance_df = pd.DataFrame({\"Feature\": feature_names, \"Importance\": feature_importance})\n",
    "importance_df = importance_df.sort_values(by=\"Importance\", ascending=False)\n",
    "plt.figure(figsize=(10, 6))\n",
    "sns.barplot(x=\"Importance\", y=\"Feature\", data=importance_df)\n",
    "plt.title(\"Feature Importance\")\n",
    "plt.show()"
   ]
  },
  {
   "cell_type": "code",
   "execution_count": 28,
   "id": "ac3a4d13",
   "metadata": {
    "execution": {
     "iopub.execute_input": "2025-02-05T14:40:53.050529Z",
     "iopub.status.busy": "2025-02-05T14:40:53.050171Z",
     "iopub.status.idle": "2025-02-05T14:40:53.300607Z",
     "shell.execute_reply": "2025-02-05T14:40:53.299325Z"
    },
    "papermill": {
     "duration": 0.26221,
     "end_time": "2025-02-05T14:40:53.302325",
     "exception": false,
     "start_time": "2025-02-05T14:40:53.040115",
     "status": "completed"
    },
    "tags": []
   },
   "outputs": [
    {
     "data": {
      "image/png": "[encoded data removed]",
      "text/plain": [
       "<Figure size 1000x600 with 1 Axes>"
      ]
     },
     "metadata": {},
     "output_type": "display_data"
    }
   ],
   "source": [
    "# Visualization 3: Distribution of Predicted vs. Actual Labels\n",
    "plt.figure(figsize=(10, 6))\n",
    "sns.countplot(x=\"label\", data=predictions_pd, color=\"blue\", label=\"Actual\")\n",
    "sns.countplot(x=\"prediction\", data=predictions_pd, color=\"orange\", label=\"Predicted\")\n",
    "plt.xticks(ticks=[0, 1, 2, 3, 4], labels=[\"A\", \"B\", \"C\", \"D\", \"E\"])\n",
    "plt.xlabel(\"Nutri-Score Grade\")\n",
    "plt.ylabel(\"Count\")\n",
    "plt.title(\"Distribution of Predicted vs. Actual Labels\")\n",
    "plt.legend()\n",
    "plt.show()"
   ]
  }
 ],
 "metadata": {
  "kaggle": {
   "accelerator": "none",
   "dataSources": [
    {
     "datasetId": 3048550,
     "sourceId": 5239632,
     "sourceType": "datasetVersion"
    }
   ],
   "dockerImageVersionId": 30839,
   "isGpuEnabled": false,
   "isInternetEnabled": true,
   "language": "python",
   "sourceType": "notebook"
  },
  "kernelspec": {
   "display_name": "Python 3",
   "language": "python",
   "name": "python3"
  },
  "language_info": {
   "codemirror_mode": {
    "name": "ipython",
    "version": 3
   },
   "file_extension": ".py",
   "mimetype": "text/x-python",
   "name": "python",
   "nbconvert_exporter": "python",
   "pygments_lexer": "ipython3",
   "version": "3.10.12"
  },
  "papermill": {
   "default_parameters": {},
   "duration": 747.913575,
   "end_time": "2025-02-05T14:40:54.236032",
   "environment_variables": {},
   "exception": null,
   "input_path": "__notebook__.ipynb",
   "output_path": "__notebook__.ipynb",
   "parameters": {},
   "start_time": "2025-02-05T14:28:26.322457",
   "version": "2.6.0"
  }
 },
 "nbformat": 4,
 "nbformat_minor": 5
}
